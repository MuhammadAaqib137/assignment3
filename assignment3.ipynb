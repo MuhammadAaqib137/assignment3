{
 "cells": [
  {
   "cell_type": "markdown",
   "metadata": {},
   "source": [
    "# calculator"
   ]
  },
  {
   "cell_type": "code",
   "execution_count": 1,
   "metadata": {},
   "outputs": [
    {
     "name": "stdout",
     "output_type": "stream",
     "text": [
      "Enter first number 4\n",
      "enter operator +\n",
      "Enter second number5\n",
      "9\n"
     ]
    }
   ],
   "source": [
    "a  = int(input(\"Enter first number \"))\n",
    "op = input(\"enter operator \" )\n",
    "b  = int(input(\"Enter second number\"))\n",
    "if op=='+':\n",
    "    print(a+b)\n",
    "elif op=='-':\n",
    "    print(a-b)\n",
    "elif op=='%':\n",
    "    print(a%b)\n",
    "elif op=='/':\n",
    "    print(a/b)\n",
    "elif op=='*':\n",
    "    print(a*b)\n",
    "else :\n",
    "    print(\"Invalid operator\")"
   ]
  },
  {
   "cell_type": "markdown",
   "metadata": {},
   "source": [
    "# checking numeric value in lsit"
   ]
  },
  {
   "cell_type": "code",
   "execution_count": 4,
   "metadata": {},
   "outputs": [
    {
     "name": "stdout",
     "output_type": "stream",
     "text": [
      "yes\n",
      "yes\n",
      "no\n"
     ]
    }
   ],
   "source": [
    "li=[2,3,\"m\"]\n",
    "for i in range (len(li)):\n",
    "    if type(li[i])==int:\n",
    "        print (\"yes\")\n",
    "    else:\n",
    "        print(\"no\")\n",
    "        "
   ]
  },
  {
   "cell_type": "markdown",
   "metadata": {},
   "source": [
    "# add key to dictionary "
   ]
  },
  {
   "cell_type": "code",
   "execution_count": 25,
   "metadata": {},
   "outputs": [
    {
     "name": "stdout",
     "output_type": "stream",
     "text": [
      "{'a': 1, 'b': 2}\n",
      "{'a': 1, 'b': 2, 'c': None, 'd': 4}\n"
     ]
    }
   ],
   "source": [
    "\n",
    "d = {'a': 1, 'b': 2}\n",
    "print(d)\n",
    "\n",
    "d['d'] = 4\n",
    "print(d)\n"
   ]
  },
  {
   "cell_type": "markdown",
   "metadata": {},
   "source": [
    "# sum of numeric values in dictionary"
   ]
  },
  {
   "cell_type": "code",
   "execution_count": 39,
   "metadata": {},
   "outputs": [
    {
     "name": "stdout",
     "output_type": "stream",
     "text": [
      "3\n"
     ]
    }
   ],
   "source": [
    "di={\"a\":1,\n",
    "    \"b\":2\n",
    "   }\n",
    "sum=0\n",
    "for i in  di.values():\n",
    "    sum=sum+i\n",
    "print(sum)"
   ]
  },
  {
   "cell_type": "markdown",
   "metadata": {},
   "source": [
    "# identify duplicate values in list"
   ]
  },
  {
   "cell_type": "code",
   "execution_count": 4,
   "metadata": {},
   "outputs": [
    {
     "name": "stdout",
     "output_type": "stream",
     "text": [
      "[20, 30, -20, 60]\n"
     ]
    }
   ],
   "source": [
    "def Repeat(x): \n",
    "    _size = len(x) \n",
    "    repeated = [] \n",
    "    for i in range(_size): \n",
    "        k = i + 1\n",
    "        for j in range(k, _size): \n",
    "            if x[i] == x[j] and x[i] not in repeated: \n",
    "                repeated.append(x[i]) \n",
    "    return repeated \n",
    "  \n",
    "# Driver Code \n",
    "list1 = [10, 20, 30, 20, 20, 30, 40,  \n",
    "         50, -20, 60, 60, -20, -20] \n",
    "print (Repeat(list1)) \n",
    "      "
   ]
  },
  {
   "cell_type": "markdown",
   "metadata": {},
   "source": [
    "# checking already present or not"
   ]
  },
  {
   "cell_type": "code",
   "execution_count": 6,
   "metadata": {},
   "outputs": [
    {
     "name": "stdout",
     "output_type": "stream",
     "text": [
      "enter key a\n",
      "Already Present,  value =  100\n"
     ]
    }
   ],
   "source": [
    "\n",
    "\n",
    "def checkKey(dict, key): \n",
    "    if key in dict.keys(): \n",
    "        print(\"Already Present, \", end =\" \") \n",
    "        print(\"value = \", dict[key]) \n",
    "    else: \n",
    "        print(\"Not present\") \n",
    "dict = {'a': 100, 'b':200, 'c':300} \n",
    "  \n",
    "key =input(\"enter key \")\n",
    "checkKey(dict, key) \n",
    "  \n",
    " "
   ]
  },
  {
   "cell_type": "code",
   "execution_count": null,
   "metadata": {
    "collapsed": true
   },
   "outputs": [],
   "source": []
  }
 ],
 "metadata": {
  "kernelspec": {
   "display_name": "Python 3",
   "language": "python",
   "name": "python3"
  },
  "language_info": {
   "codemirror_mode": {
    "name": "ipython",
    "version": 3
   },
   "file_extension": ".py",
   "mimetype": "text/x-python",
   "name": "python",
   "nbconvert_exporter": "python",
   "pygments_lexer": "ipython3",
   "version": "3.6.3"
  }
 },
 "nbformat": 4,
 "nbformat_minor": 2
}
